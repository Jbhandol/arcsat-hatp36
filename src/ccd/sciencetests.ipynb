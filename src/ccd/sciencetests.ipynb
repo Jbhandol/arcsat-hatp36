{
 "cells": [
  {
   "cell_type": "code",
   "execution_count": 2,
   "id": "5988c034-e3c2-4cc1-8d36-f2a65c4c8b16",
   "metadata": {},
   "outputs": [],
   "source": [
    "from astropy.io import fits\n",
    "from astropy.stats import sigma_clip\n",
    "import numpy as np\n",
    "import matplotlib.pyplot as plt\n",
    "from astropy.io import fits\n",
    "from astropy.visualization import ImageNormalize, ZScaleInterval"
   ]
  },
  {
   "cell_type": "code",
   "execution_count": 11,
   "id": "1f809187-b6ed-406a-a424-ce96034094dc",
   "metadata": {},
   "outputs": [],
   "source": [
    "def reduce_science_frame(\n",
    "    science_filename,\n",
    "    median_bias_filename,\n",
    "    median_flat_filename,\n",
    "    median_dark_filename,\n",
    "    reduced_science_filename=\"reduced_science.fits\",\n",
    "):\n",
    "    \"\"\"This function must:\n",
    "\n",
    "    - Accept a science frame filename as science_filename.\n",
    "    - Accept a median bias frame filename as median_bias_filename (the one you created\n",
    "      using create_median_bias).\n",
    "    - Accept a median flat frame filename as median_flat_filename (the one you created\n",
    "      using create_median_flat).\n",
    "    - Accept a median dark frame filename as median_dark_filename (the one you created\n",
    "      using create_median_dark).\n",
    "    - Read all files.\n",
    "    - Subtract the bias frame from the science frame.\n",
    "    - Subtract the dark frame from the science frame. Remember to multiply the\n",
    "      dark frame by the exposure time of the science frame. The exposure time can\n",
    "      be found in the header of the FITS file.\n",
    "    - Correct the science frame using the flat frame.\n",
    "    - Optionally, remove cosmic rays.\n",
    "    - Save the resulting reduced science frame to a FITS file with the filename\n",
    "      reduced_science_filename.\n",
    "    - Return the reduced science frame as a 2D numpy array.\n",
    "\n",
    "    \"\"\"\n",
    "    # Step: Loading all the relevant calibration files\n",
    "    bias = fits.getdata(median_bias_filename).astype('f4')\n",
    "    flat = fits.getdata(median_flat_filename).astype('f4')\n",
    "    dark = fits.getdata(median_dark_filename).astype('f4')\n",
    "    # Step: Getting the science pic\n",
    "    sci = fits.open(science_filename)\n",
    "    sci_data = sci[0].data.astype('f4')\n",
    "    exptime = float(sci[0].header['EXPTIME'])\n",
    "    # Step Subtracting the bias\n",
    "    reduced = sci_data - bias\n",
    "    # Step Subtracting the dark\n",
    "    reduced -= dark * exptime\n",
    "    # Step Trimming to correct dimensions\n",
    "    reduced = reduced[1000:3000, 1000:3000]\n",
    "    #flat = flat[1000:3000, 1000:3000]\n",
    "    # Step divide by normalized flat\n",
    "    reduced /= flat\n",
    "    # Step Save\n",
    "    hdu = fits.PrimaryHDU(reduced)\n",
    "    hdu.writeto(reduced_science_filename, overwrite=True)\n",
    "    # Step return\n",
    "    return reduced"
   ]
  },
  {
   "cell_type": "code",
   "execution_count": 12,
   "id": "5e347824-0d11-496c-97f8-1ab060d86386",
   "metadata": {},
   "outputs": [],
   "source": [
    "science_file = '/home/jovyan/work/ccd-reductions-Jbhandol/data/ccd_reductions_data/kelt-16-b-S001-R001-C084-r.fit'\n",
    "\n",
    "reduced = reduce_science_frame(\n",
    "    science_filename=science_file,\n",
    "    median_bias_filename='bias_median.fits',\n",
    "    median_flat_filename='flat_median.fits',\n",
    "    median_dark_filename='dark_median.fits',\n",
    "    reduced_science_filename='reduced_kelt16b_C084.fits'\n",
    ")"
   ]
  },
  {
   "cell_type": "code",
   "execution_count": null,
   "id": "79a9d268-0d05-42e5-82d9-44bc470ee166",
   "metadata": {},
   "outputs": [],
   "source": []
  }
 ],
 "metadata": {
  "kernelspec": {
   "display_name": "Python 3 (ipykernel)",
   "language": "python",
   "name": "python3"
  },
  "language_info": {
   "codemirror_mode": {
    "name": "ipython",
    "version": 3
   },
   "file_extension": ".py",
   "mimetype": "text/x-python",
   "name": "python",
   "nbconvert_exporter": "python",
   "pygments_lexer": "ipython3",
   "version": "3.12.9"
  }
 },
 "nbformat": 4,
 "nbformat_minor": 5
}
