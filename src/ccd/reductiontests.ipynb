{
 "cells": [
  {
   "cell_type": "code",
   "execution_count": 1,
   "id": "e093dbd8-70ac-46bf-b24b-8288c12c62e0",
   "metadata": {},
   "outputs": [
    {
     "name": "stderr",
     "output_type": "stream",
     "text": [
      "/opt/conda/lib/python3.12/site-packages/tqdm/auto.py:21: TqdmWarning: IProgress not found. Please update jupyter and ipywidgets. See https://ipywidgets.readthedocs.io/en/stable/user_install.html\n",
      "  from .autonotebook import tqdm as notebook_tqdm\n"
     ]
    },
    {
     "name": "stdout",
     "output_type": "stream",
     "text": [
      "starting reduction\n",
      "bias done\n",
      "darks done\n",
      "flats done\n",
      "sceince frame reduction done\n",
      "photometry done\n"
     ]
    },
    {
     "name": "stderr",
     "output_type": "stream",
     "text": [
      "WARNING: MergeConflictWarning: Cannot merge meta key 'aperture_r' types <class 'float'> and <class 'float'>, choosing aperture_r=10.0 [astropy.utils.metadata.merge]\n",
      "WARNING: MergeConflictWarning: Cannot merge meta key 'aperture_r' types <class 'float'> and <class 'float'>, choosing aperture_r=15.0 [astropy.utils.metadata.merge]\n"
     ]
    },
    {
     "name": "stdout",
     "output_type": "stream",
     "text": [
      "radial plot is done\n",
      "sceince frame reduction done\n",
      "photometry done\n",
      "radial plot is done\n",
      "All done! Products are in data/reductions\n"
     ]
    },
    {
     "name": "stderr",
     "output_type": "stream",
     "text": [
      "WARNING: MergeConflictWarning: Cannot merge meta key 'aperture_r' types <class 'float'> and <class 'float'>, choosing aperture_r=10.0 [astropy.utils.metadata.merge]\n",
      "WARNING: MergeConflictWarning: Cannot merge meta key 'aperture_r' types <class 'float'> and <class 'float'>, choosing aperture_r=15.0 [astropy.utils.metadata.merge]\n"
     ]
    }
   ],
   "source": [
    "from reduction import run_reduction\n",
    "run_reduction()"
   ]
  },
  {
   "cell_type": "code",
   "execution_count": null,
   "id": "fa8298f9-3d2b-424e-be9b-122fd67ed70d",
   "metadata": {},
   "outputs": [],
   "source": []
  }
 ],
 "metadata": {
  "kernelspec": {
   "display_name": "Python 3 (ipykernel)",
   "language": "python",
   "name": "python3"
  },
  "language_info": {
   "codemirror_mode": {
    "name": "ipython",
    "version": 3
   },
   "file_extension": ".py",
   "mimetype": "text/x-python",
   "name": "python",
   "nbconvert_exporter": "python",
   "pygments_lexer": "ipython3",
   "version": "3.12.9"
  }
 },
 "nbformat": 4,
 "nbformat_minor": 5
}
