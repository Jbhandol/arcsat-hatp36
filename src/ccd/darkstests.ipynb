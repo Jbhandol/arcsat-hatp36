{
 "cells": [
  {
   "cell_type": "code",
   "execution_count": 11,
   "id": "7de91955-7238-4668-86b5-dc7e9f06c64a",
   "metadata": {},
   "outputs": [],
   "source": [
    "from astropy.io import fits\n",
    "from astropy.stats import sigma_clip\n",
    "import numpy as np"
   ]
  },
  {
   "cell_type": "code",
   "execution_count": 12,
   "id": "816a2686-0643-4d85-a95d-d48d7f3dc07d",
   "metadata": {},
   "outputs": [],
   "source": [
    "\n",
    "def create_median_dark(dark_list, bias_filename, median_dark_filename):\n",
    "    \"\"\"This function:\n",
    "\n",
    "    - Accept a list of dark file paths to combine as dark_list.\n",
    "    - Accept a median bias frame filename as bias_filename (the one you created using\n",
    "      create_median_bias).\n",
    "    - Read all the images in dark_list and create a list of 2D numpy arrays.\n",
    "    - Read the bias frame.\n",
    "    - Subtract the bias frame from each dark image.\n",
    "    - Divide each dark image by its exposure time so that you get the dark current\n",
    "      per second. The exposure time can be found in the header of the FITS file.\n",
    "    - Use a sigma clipping algorithm to combine all the bias-corrected dark frames\n",
    "      using the median and removing outliers outside 3-sigma for each pixel.\n",
    "    - Save the resulting dark frame to a FITS file with the name median_dark_filename.\n",
    "    - Return the median dark frame as a 2D numpy array.\n",
    "\n",
    "    \"\"\"\n",
    "    #Step Get data ()\n",
    "    bias_data = fits.getdata(bias_filename).astype('f4')\n",
    "    dark_frames = []\n",
    "    #Step getting exposure time for each file and normalizing it. Also put them in float 32 arrays\n",
    "    for filename in dark_list:\n",
    "            dark = fits.open(filename)\n",
    "            data = dark[0].data.astype('f4')\n",
    "            exptime = dark[0].header['EXPTIME']\n",
    "            dark_corrected = (data - bias_data) / exptime\n",
    "            dark_frames.append(dark_corrected)\n",
    "    dark_stack = np.array(dark_frames)\n",
    "    #Step sigma clipping\n",
    "    clipped = sigma_clip(dark_stack, sigma=3.0, axis=0, cenfunc='median')\n",
    "    #Step average out\n",
    "    median_dark = np.ma.mean(clipped, axis=0).data\n",
    "    #Step Saving\n",
    "    hdu = fits.PrimaryHDU(data=median_dark)\n",
    "    hdu.writeto(median_dark_filename, overwrite=True)\n",
    "    #Step returning the result when called out\n",
    "    return median_dark\n"
   ]
  },
  {
   "cell_type": "code",
   "execution_count": 13,
   "id": "a3aee17f-b624-4c0e-b210-785a3221104a",
   "metadata": {},
   "outputs": [],
   "source": [
    "# Your test list of dark frames\n",
    "dark_files = [\n",
    "    '/home/jovyan/work/ccd-reductions-Jbhandol/data/ccd_reductions_data/Dark-S001-R001-C001-NoFilt.fit',\n",
    "    '/home/jovyan/work/ccd-reductions-Jbhandol/data/ccd_reductions_data/Dark-S001-R001-C002-NoFilt.fit',\n",
    "    '/home/jovyan/work/ccd-reductions-Jbhandol/data/ccd_reductions_data/Dark-S001-R001-C003-NoFilt.fit',\n",
    "    '/home/jovyan/work/ccd-reductions-Jbhandol/data/ccd_reductions_data/Dark-S001-R001-C004-NoFilt.fit',\n",
    "    '/home/jovyan/work/ccd-reductions-Jbhandol/data/ccd_reductions_data/Dark-S001-R001-C005-NoFilt.fit',\n",
    "    '/home/jovyan/work/ccd-reductions-Jbhandol/data/ccd_reductions_data/Dark-S001-R001-C006-NoFilt.fit'\n",
    "]\n",
    "\n",
    "median_dark = create_median_dark(\n",
    "    dark_list=dark_files,\n",
    "    bias_filename='bias_median.fits',\n",
    "    median_dark_filename='dark_median.fits'\n",
    ")\n"
   ]
  },
  {
   "cell_type": "code",
   "execution_count": 14,
   "id": "8a3d2348-92f2-4f5d-ab5a-ec4e9c05b86c",
   "metadata": {},
   "outputs": [
    {
     "name": "stdout",
     "output_type": "stream",
     "text": [
      "📂 Individual Dark Frame Stats:\n",
      "Dark-S001-R001-C001-NoFilt.fit - Mean: 1062.03, Std: 43.41\n",
      "Dark-S001-R001-C002-NoFilt.fit - Mean: 1058.77, Std: 43.33\n",
      "Dark-S001-R001-C003-NoFilt.fit - Mean: 1056.83, Std: 43.33\n",
      "Dark-S001-R001-C004-NoFilt.fit - Mean: 1057.65, Std: 43.30\n",
      "Dark-S001-R001-C005-NoFilt.fit - Mean: 1057.39, Std: 43.35\n",
      "Dark-S001-R001-C006-NoFilt.fit - Mean: 1057.15, Std: 43.36\n",
      "\n",
      "📦 Combined Median Dark Frame:\n",
      "Mean: 0.0652\n",
      "Std : 0.4704\n"
     ]
    }
   ],
   "source": [
    "from astropy.io import fits\n",
    "import numpy as np\n",
    "\n",
    "# Individual darks (use same dark_files list)\n",
    "print(\"📂 Individual Dark Frame Stats:\")\n",
    "for file in dark_files:\n",
    "    data = fits.getdata(file).astype('f4')\n",
    "    print(f\"{file.split('/')[-1]} - Mean: {np.mean(data):.2f}, Std: {np.std(data):.2f}\")\n",
    "\n",
    "# Combined dark frame\n",
    "dark_median = fits.getdata('dark_median.fits')\n",
    "print(\"\\n📦 Combined Median Dark Frame:\")\n",
    "print(f\"Mean: {np.mean(dark_median):.4f}\")\n",
    "print(f\"Std : {np.std(dark_median):.4f}\")\n"
   ]
  },
  {
   "cell_type": "code",
   "execution_count": null,
   "id": "1c43bb91-42ed-4981-a33b-d01f16597555",
   "metadata": {},
   "outputs": [],
   "source": []
  }
 ],
 "metadata": {
  "kernelspec": {
   "display_name": "Python 3 (ipykernel)",
   "language": "python",
   "name": "python3"
  },
  "language_info": {
   "codemirror_mode": {
    "name": "ipython",
    "version": 3
   },
   "file_extension": ".py",
   "mimetype": "text/x-python",
   "name": "python",
   "nbconvert_exporter": "python",
   "pygments_lexer": "ipython3",
   "version": "3.12.9"
  }
 },
 "nbformat": 4,
 "nbformat_minor": 5
}
