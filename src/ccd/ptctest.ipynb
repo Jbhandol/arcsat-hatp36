{
 "cells": [
  {
   "cell_type": "code",
   "execution_count": 2,
   "id": "6ca7ee05-41ab-46fa-ab9e-919fd54d2118",
   "metadata": {},
   "outputs": [],
   "source": [
    "from astropy.io import fits\n",
    "from astropy.stats import sigma_clip\n",
    "import numpy as np\n",
    "import matplotlib.pyplot as plt\n",
    "from astropy.io import fits\n",
    "from astropy.visualization import ImageNormalize, ZScaleInterval"
   ]
  },
  {
   "cell_type": "code",
   "execution_count": 5,
   "id": "84e50d56-3f7a-4064-8602-01a6d3917bf6",
   "metadata": {},
   "outputs": [],
   "source": [
    "def calculate_gain(files):\n",
    "    \"\"\"This function:\n",
    "\n",
    "    - Accept a list of files that you need to calculate the gain\n",
    "      (two files should be enough, but what kind?).\n",
    "    - Read the files and calculate the gain in e-/ADU.\n",
    "    - Return the gain in e-/ADU.\n",
    "\n",
    "    \"\"\"\n",
    "    #Loading flats\n",
    "    flat1 = fits.getdata(files[0]).astype('f4')\n",
    "    flat2 = fits.getdata(files[1]).astype('f4')\n",
    "    # maybe need to trim ?\n",
    "    #Finding mean\n",
    "    mean1 = np.mean(flat1)\n",
    "    mean2 = np.mean(flat2)\n",
    "    #Finding variance\n",
    "    variance = np.var(flat1-flat2)\n",
    "    #finding gain\n",
    "    gain = (mean1+mean2)/variance\n",
    "    #retunring result\n",
    "    return gain\n",
    "\n",
    "\n",
    "def calculate_readout_noise(files, gain):\n",
    "    \"\"\"This function:\n",
    "\n",
    "    - Accept a list of files that you need to calculate the readout noise\n",
    "      (two files should be enough, but what kind?).\n",
    "    - Accept the gain in e-/ADU as gain. This should be the one you calculated\n",
    "      in calculate_gain.\n",
    "    - Read the files and calculate the readout noise in e-.\n",
    "    - Return the readout noise in e-.\n",
    "\n",
    "    \"\"\"\n",
    "    # Load the bias frames\n",
    "    bias1 = fits.getdata(files[0]).astype('f4')\n",
    "    bias2 = fits.getdata(files[1]).astype('f4')\n",
    "    # Standard deviation\n",
    "    std_diff = np.std(bias1 - bias2)\n",
    "    # Readout noise\n",
    "    readout_noise = (gain * std_diff) / np.sqrt(2)\n",
    "    #return the result\n",
    "    return readout_noise\n"
   ]
  },
  {
   "cell_type": "code",
   "execution_count": 4,
   "id": "fb4a85d9-2818-4237-9a9f-c26122983ae8",
   "metadata": {},
   "outputs": [
    {
     "name": "stdout",
     "output_type": "stream",
     "text": [
      "Gain = 1.290 e-/ADU\n"
     ]
    }
   ],
   "source": [
    "gain = calculate_gain([\n",
    "    '/home/jovyan/work/ccd-reductions-Jbhandol/data/ccd_reductions_data/AutoFlat-PANoRot-r-Bin1-001.fit',\n",
    "    '/home/jovyan/work/ccd-reductions-Jbhandol/data/ccd_reductions_data/AutoFlat-PANoRot-r-Bin1-002.fit'\n",
    "])\n",
    "\n",
    "print(f\"Gain = {gain:.3f} e-/ADU\")"
   ]
  },
  {
   "cell_type": "code",
   "execution_count": 6,
   "id": "97bdeab4-9f3e-46a4-8b90-6bd038fb487a",
   "metadata": {},
   "outputs": [
    {
     "name": "stdout",
     "output_type": "stream",
     "text": [
      "Readout Noise = 10.698 e-\n"
     ]
    }
   ],
   "source": [
    "readout_noise = calculate_readout_noise([\n",
    "    '/home/jovyan/work/ccd-reductions-Jbhandol/data/ccd_reductions_data/Bias-S001-R001-C001-NoFilt.fit',\n",
    "    '/home/jovyan/work/ccd-reductions-Jbhandol/data/ccd_reductions_data/Bias-S001-R001-C002-NoFilt.fit'\n",
    "], gain)\n",
    "\n",
    "print(f\"Readout Noise = {readout_noise:.3f} e-\")\n"
   ]
  },
  {
   "cell_type": "code",
   "execution_count": null,
   "id": "1b02fe7a-7a35-4e8b-b6a4-68051827cb7d",
   "metadata": {},
   "outputs": [],
   "source": []
  }
 ],
 "metadata": {
  "kernelspec": {
   "display_name": "Python 3 (ipykernel)",
   "language": "python",
   "name": "python3"
  },
  "language_info": {
   "codemirror_mode": {
    "name": "ipython",
    "version": 3
   },
   "file_extension": ".py",
   "mimetype": "text/x-python",
   "name": "python",
   "nbconvert_exporter": "python",
   "pygments_lexer": "ipython3",
   "version": "3.12.9"
  }
 },
 "nbformat": 4,
 "nbformat_minor": 5
}
